{
  "nbformat": 4,
  "nbformat_minor": 0,
  "metadata": {
    "colab": {
      "provenance": []
    },
    "kernelspec": {
      "name": "python3",
      "display_name": "Python 3"
    },
    "language_info": {
      "name": "python"
    }
  },
  "cells": [
    {
      "cell_type": "markdown",
      "source": [
        "# Creating an Image Classification Dataset based on MultiCaRe Subsets"
      ],
      "metadata": {
        "id": "CmR55tthusWz"
      }
    },
    {
      "cell_type": "markdown",
      "source": [
        "First of all, install the `multiversity` library, import the MedicalDatasetCreator class, and instantiate it."
      ],
      "metadata": {
        "id": "3gf077J1uyWz"
      }
    },
    {
      "cell_type": "code",
      "execution_count": null,
      "metadata": {
        "id": "9kMD664PuJsU"
      },
      "outputs": [],
      "source": [
        "%%capture\n",
        "!pip install multiversity"
      ]
    },
    {
      "cell_type": "code",
      "source": [
        "from multiversity.multicare_dataset import MedicalDatasetCreator"
      ],
      "metadata": {
        "id": "swHqPMW3uQz7"
      },
      "execution_count": 2,
      "outputs": []
    },
    {
      "cell_type": "code",
      "source": [
        "mdc = MedicalDatasetCreator(directory = 'medical_datasets')"
      ],
      "metadata": {
        "colab": {
          "base_uri": "https://localhost:8080/"
        },
        "id": "Z0OxszGIuVGD",
        "outputId": "ba870bae-485c-4b6c-fe34-29a326d5729f"
      },
      "execution_count": 3,
      "outputs": [
        {
          "output_type": "stream",
          "name": "stdout",
          "text": [
            "Downloading the MultiCaRe Dataset from Zenodo. This may take approximately 5 minutes.\n",
            "Importing and pre-processing the main files.\n",
            "Done!\n"
          ]
        }
      ]
    },
    {
      "cell_type": "markdown",
      "source": [
        "This code will create an image classification dataset by creating multiple subsets and then assigning one class to each. If all the subsets belong to a specific type of image, a common filter list can be added to the `dataset_dict` param. To understand how to use filters correctly, refer to [this demo](https://github.com/mauro-nievoff/MultiCaRe_Dataset/blob/main/Demos/customized_subset_creation.ipynb)."
      ],
      "metadata": {
        "id": "4qLW-1_ivB6W"
      }
    },
    {
      "cell_type": "code",
      "source": [
        "mri_filters = [\n",
        "  {'field': 'min_year', 'string_list': ['2015']},\n",
        "  {'field': 'min_age', 'string_list': ['18']},\n",
        "  {'field': 'case_strings', 'string_list': ['lung cancer', 'lung carcinoma'], 'operator': 'any'},\n",
        "  {'field': 'label', 'string_list': ['mri', 'head']},\n",
        "  {'field': 'caption', 'string_list': ['metastasis', 'metastases'], 'operator': 'any'}\n",
        "]"
      ],
      "metadata": {
        "id": "dbYBXA6xubI0"
      },
      "execution_count": 4,
      "outputs": []
    },
    {
      "cell_type": "code",
      "source": [
        "classifier_dict = {\n",
        "    'dataset_name': 'gender_classifier',\n",
        "    'common_filter_list': mri_filters,\n",
        "    'class_subsets': [\n",
        "        {'class': 'female',\n",
        "         'filter_list': [{'field': 'gender', 'string_list': ['Female']}]},\n",
        "        {'class': 'male',\n",
        "         'filter_list': [{'field': 'gender', 'string_list': ['Male']}]}\n",
        "    ]\n",
        "}\n"
      ],
      "metadata": {
        "id": "4-jkdwmcue7E"
      },
      "execution_count": 5,
      "outputs": []
    },
    {
      "cell_type": "code",
      "source": [
        "mdc.create_image_classification_dataset(dataset_dict = classifier_dict,\n",
        "                                        keep_label_columns = False) # Use True if you want to keep also the label columns from the original dataset ('image_type', etc)."
      ],
      "metadata": {
        "colab": {
          "base_uri": "https://localhost:8080/"
        },
        "id": "vWTKdFlIuhis",
        "outputId": "7beb5f90-8fa0-4138-e657-7464c28a1b74"
      },
      "execution_count": 6,
      "outputs": [
        {
          "output_type": "stream",
          "name": "stdout",
          "text": [
            "The gender_classifier_female was successfully created!\n",
            "The gender_classifier_male was successfully created!\n"
          ]
        }
      ]
    },
    {
      "cell_type": "code",
      "source": [
        "import pandas as pd\n",
        "\n",
        "classification_dataset = pd.read_csv('medical_datasets/gender_classifier/gender_classifier.csv')"
      ],
      "metadata": {
        "id": "HBbHBOSRwOSI"
      },
      "execution_count": 10,
      "outputs": []
    },
    {
      "cell_type": "markdown",
      "source": [
        "As an outcome you will get a dataframe including the path to each image and its class."
      ],
      "metadata": {
        "id": "7SUGy-09w_Lx"
      }
    },
    {
      "cell_type": "code",
      "source": [
        "classification_dataset.head()"
      ],
      "metadata": {
        "colab": {
          "base_uri": "https://localhost:8080/",
          "height": 206
        },
        "id": "7WM9_pNXwgEn",
        "outputId": "51790190-3c54-4a39-8a7a-e2e11afcc91e"
      },
      "execution_count": 11,
      "outputs": [
        {
          "output_type": "execute_result",
          "data": {
            "text/plain": [
              "        file_id                                              file  \\\n",
              "0  file_0007273  PMC10295819_encephalitis-2022-00122f1_A_1_6.webp   \n",
              "1  file_0007274  PMC10295819_encephalitis-2022-00122f1_B_2_6.webp   \n",
              "2  file_0007275  PMC10295819_encephalitis-2022-00122f1_C_3_6.webp   \n",
              "3  file_0007276  PMC10295819_encephalitis-2022-00122f1_D_4_6.webp   \n",
              "4  file_0007277  PMC10295819_encephalitis-2022-00122f1_E_5_6.webp   \n",
              "\n",
              "                                           file_path   class  \n",
              "0  medical_datasets/gender_classifier_female/imag...  female  \n",
              "1  medical_datasets/gender_classifier_female/imag...  female  \n",
              "2  medical_datasets/gender_classifier_female/imag...  female  \n",
              "3  medical_datasets/gender_classifier_female/imag...  female  \n",
              "4  medical_datasets/gender_classifier_female/imag...  female  "
            ],
            "text/html": [
              "\n",
              "  <div id=\"df-688b7c36-b21b-4172-83f4-244b977e5ca1\" class=\"colab-df-container\">\n",
              "    <div>\n",
              "<style scoped>\n",
              "    .dataframe tbody tr th:only-of-type {\n",
              "        vertical-align: middle;\n",
              "    }\n",
              "\n",
              "    .dataframe tbody tr th {\n",
              "        vertical-align: top;\n",
              "    }\n",
              "\n",
              "    .dataframe thead th {\n",
              "        text-align: right;\n",
              "    }\n",
              "</style>\n",
              "<table border=\"1\" class=\"dataframe\">\n",
              "  <thead>\n",
              "    <tr style=\"text-align: right;\">\n",
              "      <th></th>\n",
              "      <th>file_id</th>\n",
              "      <th>file</th>\n",
              "      <th>file_path</th>\n",
              "      <th>class</th>\n",
              "    </tr>\n",
              "  </thead>\n",
              "  <tbody>\n",
              "    <tr>\n",
              "      <th>0</th>\n",
              "      <td>file_0007273</td>\n",
              "      <td>PMC10295819_encephalitis-2022-00122f1_A_1_6.webp</td>\n",
              "      <td>medical_datasets/gender_classifier_female/imag...</td>\n",
              "      <td>female</td>\n",
              "    </tr>\n",
              "    <tr>\n",
              "      <th>1</th>\n",
              "      <td>file_0007274</td>\n",
              "      <td>PMC10295819_encephalitis-2022-00122f1_B_2_6.webp</td>\n",
              "      <td>medical_datasets/gender_classifier_female/imag...</td>\n",
              "      <td>female</td>\n",
              "    </tr>\n",
              "    <tr>\n",
              "      <th>2</th>\n",
              "      <td>file_0007275</td>\n",
              "      <td>PMC10295819_encephalitis-2022-00122f1_C_3_6.webp</td>\n",
              "      <td>medical_datasets/gender_classifier_female/imag...</td>\n",
              "      <td>female</td>\n",
              "    </tr>\n",
              "    <tr>\n",
              "      <th>3</th>\n",
              "      <td>file_0007276</td>\n",
              "      <td>PMC10295819_encephalitis-2022-00122f1_D_4_6.webp</td>\n",
              "      <td>medical_datasets/gender_classifier_female/imag...</td>\n",
              "      <td>female</td>\n",
              "    </tr>\n",
              "    <tr>\n",
              "      <th>4</th>\n",
              "      <td>file_0007277</td>\n",
              "      <td>PMC10295819_encephalitis-2022-00122f1_E_5_6.webp</td>\n",
              "      <td>medical_datasets/gender_classifier_female/imag...</td>\n",
              "      <td>female</td>\n",
              "    </tr>\n",
              "  </tbody>\n",
              "</table>\n",
              "</div>\n",
              "    <div class=\"colab-df-buttons\">\n",
              "\n",
              "  <div class=\"colab-df-container\">\n",
              "    <button class=\"colab-df-convert\" onclick=\"convertToInteractive('df-688b7c36-b21b-4172-83f4-244b977e5ca1')\"\n",
              "            title=\"Convert this dataframe to an interactive table.\"\n",
              "            style=\"display:none;\">\n",
              "\n",
              "  <svg xmlns=\"http://www.w3.org/2000/svg\" height=\"24px\" viewBox=\"0 -960 960 960\">\n",
              "    <path d=\"M120-120v-720h720v720H120Zm60-500h600v-160H180v160Zm220 220h160v-160H400v160Zm0 220h160v-160H400v160ZM180-400h160v-160H180v160Zm440 0h160v-160H620v160ZM180-180h160v-160H180v160Zm440 0h160v-160H620v160Z\"/>\n",
              "  </svg>\n",
              "    </button>\n",
              "\n",
              "  <style>\n",
              "    .colab-df-container {\n",
              "      display:flex;\n",
              "      gap: 12px;\n",
              "    }\n",
              "\n",
              "    .colab-df-convert {\n",
              "      background-color: #E8F0FE;\n",
              "      border: none;\n",
              "      border-radius: 50%;\n",
              "      cursor: pointer;\n",
              "      display: none;\n",
              "      fill: #1967D2;\n",
              "      height: 32px;\n",
              "      padding: 0 0 0 0;\n",
              "      width: 32px;\n",
              "    }\n",
              "\n",
              "    .colab-df-convert:hover {\n",
              "      background-color: #E2EBFA;\n",
              "      box-shadow: 0px 1px 2px rgba(60, 64, 67, 0.3), 0px 1px 3px 1px rgba(60, 64, 67, 0.15);\n",
              "      fill: #174EA6;\n",
              "    }\n",
              "\n",
              "    .colab-df-buttons div {\n",
              "      margin-bottom: 4px;\n",
              "    }\n",
              "\n",
              "    [theme=dark] .colab-df-convert {\n",
              "      background-color: #3B4455;\n",
              "      fill: #D2E3FC;\n",
              "    }\n",
              "\n",
              "    [theme=dark] .colab-df-convert:hover {\n",
              "      background-color: #434B5C;\n",
              "      box-shadow: 0px 1px 3px 1px rgba(0, 0, 0, 0.15);\n",
              "      filter: drop-shadow(0px 1px 2px rgba(0, 0, 0, 0.3));\n",
              "      fill: #FFFFFF;\n",
              "    }\n",
              "  </style>\n",
              "\n",
              "    <script>\n",
              "      const buttonEl =\n",
              "        document.querySelector('#df-688b7c36-b21b-4172-83f4-244b977e5ca1 button.colab-df-convert');\n",
              "      buttonEl.style.display =\n",
              "        google.colab.kernel.accessAllowed ? 'block' : 'none';\n",
              "\n",
              "      async function convertToInteractive(key) {\n",
              "        const element = document.querySelector('#df-688b7c36-b21b-4172-83f4-244b977e5ca1');\n",
              "        const dataTable =\n",
              "          await google.colab.kernel.invokeFunction('convertToInteractive',\n",
              "                                                    [key], {});\n",
              "        if (!dataTable) return;\n",
              "\n",
              "        const docLinkHtml = 'Like what you see? Visit the ' +\n",
              "          '<a target=\"_blank\" href=https://colab.research.google.com/notebooks/data_table.ipynb>data table notebook</a>'\n",
              "          + ' to learn more about interactive tables.';\n",
              "        element.innerHTML = '';\n",
              "        dataTable['output_type'] = 'display_data';\n",
              "        await google.colab.output.renderOutput(dataTable, element);\n",
              "        const docLink = document.createElement('div');\n",
              "        docLink.innerHTML = docLinkHtml;\n",
              "        element.appendChild(docLink);\n",
              "      }\n",
              "    </script>\n",
              "  </div>\n",
              "\n",
              "\n",
              "<div id=\"df-ccd0c487-203b-487c-b57f-7bbf4a2c3483\">\n",
              "  <button class=\"colab-df-quickchart\" onclick=\"quickchart('df-ccd0c487-203b-487c-b57f-7bbf4a2c3483')\"\n",
              "            title=\"Suggest charts\"\n",
              "            style=\"display:none;\">\n",
              "\n",
              "<svg xmlns=\"http://www.w3.org/2000/svg\" height=\"24px\"viewBox=\"0 0 24 24\"\n",
              "     width=\"24px\">\n",
              "    <g>\n",
              "        <path d=\"M19 3H5c-1.1 0-2 .9-2 2v14c0 1.1.9 2 2 2h14c1.1 0 2-.9 2-2V5c0-1.1-.9-2-2-2zM9 17H7v-7h2v7zm4 0h-2V7h2v10zm4 0h-2v-4h2v4z\"/>\n",
              "    </g>\n",
              "</svg>\n",
              "  </button>\n",
              "\n",
              "<style>\n",
              "  .colab-df-quickchart {\n",
              "      --bg-color: #E8F0FE;\n",
              "      --fill-color: #1967D2;\n",
              "      --hover-bg-color: #E2EBFA;\n",
              "      --hover-fill-color: #174EA6;\n",
              "      --disabled-fill-color: #AAA;\n",
              "      --disabled-bg-color: #DDD;\n",
              "  }\n",
              "\n",
              "  [theme=dark] .colab-df-quickchart {\n",
              "      --bg-color: #3B4455;\n",
              "      --fill-color: #D2E3FC;\n",
              "      --hover-bg-color: #434B5C;\n",
              "      --hover-fill-color: #FFFFFF;\n",
              "      --disabled-bg-color: #3B4455;\n",
              "      --disabled-fill-color: #666;\n",
              "  }\n",
              "\n",
              "  .colab-df-quickchart {\n",
              "    background-color: var(--bg-color);\n",
              "    border: none;\n",
              "    border-radius: 50%;\n",
              "    cursor: pointer;\n",
              "    display: none;\n",
              "    fill: var(--fill-color);\n",
              "    height: 32px;\n",
              "    padding: 0;\n",
              "    width: 32px;\n",
              "  }\n",
              "\n",
              "  .colab-df-quickchart:hover {\n",
              "    background-color: var(--hover-bg-color);\n",
              "    box-shadow: 0 1px 2px rgba(60, 64, 67, 0.3), 0 1px 3px 1px rgba(60, 64, 67, 0.15);\n",
              "    fill: var(--button-hover-fill-color);\n",
              "  }\n",
              "\n",
              "  .colab-df-quickchart-complete:disabled,\n",
              "  .colab-df-quickchart-complete:disabled:hover {\n",
              "    background-color: var(--disabled-bg-color);\n",
              "    fill: var(--disabled-fill-color);\n",
              "    box-shadow: none;\n",
              "  }\n",
              "\n",
              "  .colab-df-spinner {\n",
              "    border: 2px solid var(--fill-color);\n",
              "    border-color: transparent;\n",
              "    border-bottom-color: var(--fill-color);\n",
              "    animation:\n",
              "      spin 1s steps(1) infinite;\n",
              "  }\n",
              "\n",
              "  @keyframes spin {\n",
              "    0% {\n",
              "      border-color: transparent;\n",
              "      border-bottom-color: var(--fill-color);\n",
              "      border-left-color: var(--fill-color);\n",
              "    }\n",
              "    20% {\n",
              "      border-color: transparent;\n",
              "      border-left-color: var(--fill-color);\n",
              "      border-top-color: var(--fill-color);\n",
              "    }\n",
              "    30% {\n",
              "      border-color: transparent;\n",
              "      border-left-color: var(--fill-color);\n",
              "      border-top-color: var(--fill-color);\n",
              "      border-right-color: var(--fill-color);\n",
              "    }\n",
              "    40% {\n",
              "      border-color: transparent;\n",
              "      border-right-color: var(--fill-color);\n",
              "      border-top-color: var(--fill-color);\n",
              "    }\n",
              "    60% {\n",
              "      border-color: transparent;\n",
              "      border-right-color: var(--fill-color);\n",
              "    }\n",
              "    80% {\n",
              "      border-color: transparent;\n",
              "      border-right-color: var(--fill-color);\n",
              "      border-bottom-color: var(--fill-color);\n",
              "    }\n",
              "    90% {\n",
              "      border-color: transparent;\n",
              "      border-bottom-color: var(--fill-color);\n",
              "    }\n",
              "  }\n",
              "</style>\n",
              "\n",
              "  <script>\n",
              "    async function quickchart(key) {\n",
              "      const quickchartButtonEl =\n",
              "        document.querySelector('#' + key + ' button');\n",
              "      quickchartButtonEl.disabled = true;  // To prevent multiple clicks.\n",
              "      quickchartButtonEl.classList.add('colab-df-spinner');\n",
              "      try {\n",
              "        const charts = await google.colab.kernel.invokeFunction(\n",
              "            'suggestCharts', [key], {});\n",
              "      } catch (error) {\n",
              "        console.error('Error during call to suggestCharts:', error);\n",
              "      }\n",
              "      quickchartButtonEl.classList.remove('colab-df-spinner');\n",
              "      quickchartButtonEl.classList.add('colab-df-quickchart-complete');\n",
              "    }\n",
              "    (() => {\n",
              "      let quickchartButtonEl =\n",
              "        document.querySelector('#df-ccd0c487-203b-487c-b57f-7bbf4a2c3483 button');\n",
              "      quickchartButtonEl.style.display =\n",
              "        google.colab.kernel.accessAllowed ? 'block' : 'none';\n",
              "    })();\n",
              "  </script>\n",
              "</div>\n",
              "\n",
              "    </div>\n",
              "  </div>\n"
            ],
            "application/vnd.google.colaboratory.intrinsic+json": {
              "type": "dataframe",
              "variable_name": "classification_dataset",
              "summary": "{\n  \"name\": \"classification_dataset\",\n  \"rows\": 29,\n  \"fields\": [\n    {\n      \"column\": \"file_id\",\n      \"properties\": {\n        \"dtype\": \"string\",\n        \"num_unique_values\": 29,\n        \"samples\": [\n          \"file_0155754\",\n          \"file_0125413\",\n          \"file_0096942\"\n        ],\n        \"semantic_type\": \"\",\n        \"description\": \"\"\n      }\n    },\n    {\n      \"column\": \"file\",\n      \"properties\": {\n        \"dtype\": \"string\",\n        \"num_unique_values\": 29,\n        \"samples\": [\n          \"PMC11138151_fonc-14-1394708-g002_A_1_4.webp\",\n          \"PMC8512629_gr2_undivided_1_1.webp\",\n          \"PMC6752199_OTT-12-7399-g0002_B_2_2.webp\"\n        ],\n        \"semantic_type\": \"\",\n        \"description\": \"\"\n      }\n    },\n    {\n      \"column\": \"file_path\",\n      \"properties\": {\n        \"dtype\": \"string\",\n        \"num_unique_values\": 29,\n        \"samples\": [\n          \"medical_datasets/gender_classifier_male/images/PMC1/PMC11/PMC11138151_fonc-14-1394708-g002_A_1_4.webp\",\n          \"medical_datasets/gender_classifier_male/images/PMC8/PMC85/PMC8512629_gr2_undivided_1_1.webp\",\n          \"medical_datasets/gender_classifier_male/images/PMC6/PMC67/PMC6752199_OTT-12-7399-g0002_B_2_2.webp\"\n        ],\n        \"semantic_type\": \"\",\n        \"description\": \"\"\n      }\n    },\n    {\n      \"column\": \"class\",\n      \"properties\": {\n        \"dtype\": \"category\",\n        \"num_unique_values\": 2,\n        \"samples\": [\n          \"male\",\n          \"female\"\n        ],\n        \"semantic_type\": \"\",\n        \"description\": \"\"\n      }\n    }\n  ]\n}"
            }
          },
          "metadata": {},
          "execution_count": 11
        }
      ]
    }
  ]
}
