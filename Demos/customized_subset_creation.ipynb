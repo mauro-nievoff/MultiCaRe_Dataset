{
  "nbformat": 4,
  "nbformat_minor": 0,
  "metadata": {
    "colab": {
      "provenance": []
    },
    "kernelspec": {
      "name": "python3",
      "display_name": "Python 3"
    },
    "language_info": {
      "name": "python"
    }
  },
  "cells": [
    {
      "cell_type": "markdown",
      "metadata": {
        "id": "view-in-github"
      },
      "source": [
        "<a href=\"https://colab.research.google.com/github/mauro-nievoff/MultiCaRe_Dataset/blob/main/demos/Extended_Demo.ipynb\" target=\"_parent\"><img src=\"https://colab.research.google.com/assets/colab-badge.svg\" alt=\"Open In Colab\"/></a>"
      ]
    },
    {
      "cell_type": "markdown",
      "source": [
        "# Extended Demo for Customized Subset Creation"
      ],
      "metadata": {
        "id": "LjjQ6FRU4wEt"
      }
    },
    {
      "cell_type": "markdown",
      "source": [
        "The MedicalDatasetCreator is a class used to simplify the creation of customized subsets of the [MultiCaRe Dataset](https://zenodo.org/records/13936721).\n",
        "\n",
        "This notebook is divided into three sections:\n",
        "\n",
        "1. Downloading the whole MultiCaRe Dataset\n",
        "2. Defining your Filters\n",
        "3. Creating a Customized Dataset\n",
        "\n",
        "Before starting, run the following cells to set everything up:"
      ],
      "metadata": {
        "id": "PYfVPjUX5iyU"
      }
    },
    {
      "cell_type": "code",
      "execution_count": 24,
      "metadata": {
        "id": "tilN-ZXS4fkJ"
      },
      "outputs": [],
      "source": [
        "%%capture\n",
        "!pip install multiversity\n",
        "\n",
        "from multiversity.multicare_dataset import MedicalDatasetCreator"
      ]
    },
    {
      "cell_type": "code",
      "source": [
        "import os\n",
        "import pandas as pd"
      ],
      "metadata": {
        "id": "dz8KAUy15H9F"
      },
      "execution_count": 2,
      "outputs": []
    },
    {
      "cell_type": "markdown",
      "source": [
        "Ok now, let's start!"
      ],
      "metadata": {
        "id": "SAvN044__Xxk"
      }
    },
    {
      "cell_type": "markdown",
      "source": [
        "## 1. Downloading the Whole MultiCaRe Dataset"
      ],
      "metadata": {
        "id": "4QO3gApn6KFz"
      }
    },
    {
      "cell_type": "markdown",
      "source": [
        "When the MedicalDatasetCreator class is instantiated, the MultiCaRe Dataset is imported from Zenodo into a folder called 'whole_multicare_dataset' in the main directory. This main directory is called 'MultiCaRe' by default, but this name can be changed (e.g. we are naming it 'medical_datasets' in this example).\n",
        "\n",
        "This step may take 5 to 10 minutes, and you only need to run it once (even if you intend to create multiple subsets)."
      ],
      "metadata": {
        "id": "51Q9jJaX-3Bd"
      }
    },
    {
      "cell_type": "code",
      "source": [
        "mdc = MedicalDatasetCreator(directory = 'medical_datasets')"
      ],
      "metadata": {
        "colab": {
          "base_uri": "https://localhost:8080/"
        },
        "id": "ml7KGkU54p6I",
        "outputId": "ebb3e348-21ca-4ad7-95e2-c2d7a3eb8940"
      },
      "execution_count": 3,
      "outputs": [
        {
          "output_type": "stream",
          "name": "stdout",
          "text": [
            "Downloading the MultiCaRe Dataset from Zenodo. This may take approximately 5 minutes.\n",
            "Importing and pre-processing the main files.\n",
            "Done!\n"
          ]
        }
      ]
    },
    {
      "cell_type": "markdown",
      "source": [
        "Let's see what we find in the dataset folder:"
      ],
      "metadata": {
        "id": "DiLWx3wbBE0k"
      }
    },
    {
      "cell_type": "code",
      "source": [
        "sorted(os.listdir('medical_datasets/whole_multicare_dataset'))"
      ],
      "metadata": {
        "colab": {
          "base_uri": "https://localhost:8080/"
        },
        "id": "l5rzggVF4qBN",
        "outputId": "d96d0b94-9455-4824-d7fc-1b3d5cf1a0ec"
      },
      "execution_count": 4,
      "outputs": [
        {
          "output_type": "execute_result",
          "data": {
            "text/plain": [
              "['PMC1',\n",
              " 'PMC2',\n",
              " 'PMC3',\n",
              " 'PMC4',\n",
              " 'PMC5',\n",
              " 'PMC6',\n",
              " 'PMC7',\n",
              " 'PMC8',\n",
              " 'PMC9',\n",
              " 'abstracts.parquet',\n",
              " 'captions_and_labels.csv',\n",
              " 'case_images.parquet',\n",
              " 'cases.parquet',\n",
              " 'data_dictionary.csv',\n",
              " 'metadata.parquet']"
            ]
          },
          "metadata": {},
          "execution_count": 4
        }
      ]
    },
    {
      "cell_type": "markdown",
      "source": [
        "The first nine elements are folders that contain subfolders with images, and then there are some files (parquets and csvs) with the relevant data and metadata.\n",
        "\n",
        "If you want to have a better idea about the contents of these files you can check _data_dictionary.csv_ (see the cell below), although this is not necessary at all: the _create_dataset_ method has all you need to create and preprocess a customized subset."
      ],
      "metadata": {
        "id": "G0cKM58qBKhV"
      }
    },
    {
      "cell_type": "code",
      "source": [
        "data_dictionary = pd.read_csv('medical_datasets/whole_multicare_dataset/data_dictionary.csv')\n",
        "\n",
        "data_dictionary.head()"
      ],
      "metadata": {
        "colab": {
          "base_uri": "https://localhost:8080/",
          "height": 206
        },
        "id": "2IlVaSGlDW85",
        "outputId": "23e6e711-e6c8-4e74-9afc-648ddca074dc"
      },
      "execution_count": 5,
      "outputs": [
        {
          "output_type": "execute_result",
          "data": {
            "text/plain": [
              "                      file            field  \\\n",
              "0  captions_and_labels.csv          file_id   \n",
              "1  captions_and_labels.csv             file   \n",
              "2  captions_and_labels.csv       main_image   \n",
              "3  captions_and_labels.csv  image_component   \n",
              "4  captions_and_labels.csv       patient_id   \n",
              "\n",
              "                                         explanation  \n",
              "0  Primary key for each row. Each row contains on...  \n",
              "1  Name of the image file. The file path can be d...  \n",
              "2  Id from the original image (it corresponds to ...  \n",
              "3  It is 'undivided' if the source image was not ...  \n",
              "4  Id of the patient, created combining the PMC o...  "
            ],
            "text/html": [
              "\n",
              "  <div id=\"df-46cd5f80-4ddf-478d-b8e9-cdc73736b5b1\" class=\"colab-df-container\">\n",
              "    <div>\n",
              "<style scoped>\n",
              "    .dataframe tbody tr th:only-of-type {\n",
              "        vertical-align: middle;\n",
              "    }\n",
              "\n",
              "    .dataframe tbody tr th {\n",
              "        vertical-align: top;\n",
              "    }\n",
              "\n",
              "    .dataframe thead th {\n",
              "        text-align: right;\n",
              "    }\n",
              "</style>\n",
              "<table border=\"1\" class=\"dataframe\">\n",
              "  <thead>\n",
              "    <tr style=\"text-align: right;\">\n",
              "      <th></th>\n",
              "      <th>file</th>\n",
              "      <th>field</th>\n",
              "      <th>explanation</th>\n",
              "    </tr>\n",
              "  </thead>\n",
              "  <tbody>\n",
              "    <tr>\n",
              "      <th>0</th>\n",
              "      <td>captions_and_labels.csv</td>\n",
              "      <td>file_id</td>\n",
              "      <td>Primary key for each row. Each row contains on...</td>\n",
              "    </tr>\n",
              "    <tr>\n",
              "      <th>1</th>\n",
              "      <td>captions_and_labels.csv</td>\n",
              "      <td>file</td>\n",
              "      <td>Name of the image file. The file path can be d...</td>\n",
              "    </tr>\n",
              "    <tr>\n",
              "      <th>2</th>\n",
              "      <td>captions_and_labels.csv</td>\n",
              "      <td>main_image</td>\n",
              "      <td>Id from the original image (it corresponds to ...</td>\n",
              "    </tr>\n",
              "    <tr>\n",
              "      <th>3</th>\n",
              "      <td>captions_and_labels.csv</td>\n",
              "      <td>image_component</td>\n",
              "      <td>It is 'undivided' if the source image was not ...</td>\n",
              "    </tr>\n",
              "    <tr>\n",
              "      <th>4</th>\n",
              "      <td>captions_and_labels.csv</td>\n",
              "      <td>patient_id</td>\n",
              "      <td>Id of the patient, created combining the PMC o...</td>\n",
              "    </tr>\n",
              "  </tbody>\n",
              "</table>\n",
              "</div>\n",
              "    <div class=\"colab-df-buttons\">\n",
              "\n",
              "  <div class=\"colab-df-container\">\n",
              "    <button class=\"colab-df-convert\" onclick=\"convertToInteractive('df-46cd5f80-4ddf-478d-b8e9-cdc73736b5b1')\"\n",
              "            title=\"Convert this dataframe to an interactive table.\"\n",
              "            style=\"display:none;\">\n",
              "\n",
              "  <svg xmlns=\"http://www.w3.org/2000/svg\" height=\"24px\" viewBox=\"0 -960 960 960\">\n",
              "    <path d=\"M120-120v-720h720v720H120Zm60-500h600v-160H180v160Zm220 220h160v-160H400v160Zm0 220h160v-160H400v160ZM180-400h160v-160H180v160Zm440 0h160v-160H620v160ZM180-180h160v-160H180v160Zm440 0h160v-160H620v160Z\"/>\n",
              "  </svg>\n",
              "    </button>\n",
              "\n",
              "  <style>\n",
              "    .colab-df-container {\n",
              "      display:flex;\n",
              "      gap: 12px;\n",
              "    }\n",
              "\n",
              "    .colab-df-convert {\n",
              "      background-color: #E8F0FE;\n",
              "      border: none;\n",
              "      border-radius: 50%;\n",
              "      cursor: pointer;\n",
              "      display: none;\n",
              "      fill: #1967D2;\n",
              "      height: 32px;\n",
              "      padding: 0 0 0 0;\n",
              "      width: 32px;\n",
              "    }\n",
              "\n",
              "    .colab-df-convert:hover {\n",
              "      background-color: #E2EBFA;\n",
              "      box-shadow: 0px 1px 2px rgba(60, 64, 67, 0.3), 0px 1px 3px 1px rgba(60, 64, 67, 0.15);\n",
              "      fill: #174EA6;\n",
              "    }\n",
              "\n",
              "    .colab-df-buttons div {\n",
              "      margin-bottom: 4px;\n",
              "    }\n",
              "\n",
              "    [theme=dark] .colab-df-convert {\n",
              "      background-color: #3B4455;\n",
              "      fill: #D2E3FC;\n",
              "    }\n",
              "\n",
              "    [theme=dark] .colab-df-convert:hover {\n",
              "      background-color: #434B5C;\n",
              "      box-shadow: 0px 1px 3px 1px rgba(0, 0, 0, 0.15);\n",
              "      filter: drop-shadow(0px 1px 2px rgba(0, 0, 0, 0.3));\n",
              "      fill: #FFFFFF;\n",
              "    }\n",
              "  </style>\n",
              "\n",
              "    <script>\n",
              "      const buttonEl =\n",
              "        document.querySelector('#df-46cd5f80-4ddf-478d-b8e9-cdc73736b5b1 button.colab-df-convert');\n",
              "      buttonEl.style.display =\n",
              "        google.colab.kernel.accessAllowed ? 'block' : 'none';\n",
              "\n",
              "      async function convertToInteractive(key) {\n",
              "        const element = document.querySelector('#df-46cd5f80-4ddf-478d-b8e9-cdc73736b5b1');\n",
              "        const dataTable =\n",
              "          await google.colab.kernel.invokeFunction('convertToInteractive',\n",
              "                                                    [key], {});\n",
              "        if (!dataTable) return;\n",
              "\n",
              "        const docLinkHtml = 'Like what you see? Visit the ' +\n",
              "          '<a target=\"_blank\" href=https://colab.research.google.com/notebooks/data_table.ipynb>data table notebook</a>'\n",
              "          + ' to learn more about interactive tables.';\n",
              "        element.innerHTML = '';\n",
              "        dataTable['output_type'] = 'display_data';\n",
              "        await google.colab.output.renderOutput(dataTable, element);\n",
              "        const docLink = document.createElement('div');\n",
              "        docLink.innerHTML = docLinkHtml;\n",
              "        element.appendChild(docLink);\n",
              "      }\n",
              "    </script>\n",
              "  </div>\n",
              "\n",
              "\n",
              "<div id=\"df-0fe24020-1ac7-48a6-b5f7-10a3a07bcd67\">\n",
              "  <button class=\"colab-df-quickchart\" onclick=\"quickchart('df-0fe24020-1ac7-48a6-b5f7-10a3a07bcd67')\"\n",
              "            title=\"Suggest charts\"\n",
              "            style=\"display:none;\">\n",
              "\n",
              "<svg xmlns=\"http://www.w3.org/2000/svg\" height=\"24px\"viewBox=\"0 0 24 24\"\n",
              "     width=\"24px\">\n",
              "    <g>\n",
              "        <path d=\"M19 3H5c-1.1 0-2 .9-2 2v14c0 1.1.9 2 2 2h14c1.1 0 2-.9 2-2V5c0-1.1-.9-2-2-2zM9 17H7v-7h2v7zm4 0h-2V7h2v10zm4 0h-2v-4h2v4z\"/>\n",
              "    </g>\n",
              "</svg>\n",
              "  </button>\n",
              "\n",
              "<style>\n",
              "  .colab-df-quickchart {\n",
              "      --bg-color: #E8F0FE;\n",
              "      --fill-color: #1967D2;\n",
              "      --hover-bg-color: #E2EBFA;\n",
              "      --hover-fill-color: #174EA6;\n",
              "      --disabled-fill-color: #AAA;\n",
              "      --disabled-bg-color: #DDD;\n",
              "  }\n",
              "\n",
              "  [theme=dark] .colab-df-quickchart {\n",
              "      --bg-color: #3B4455;\n",
              "      --fill-color: #D2E3FC;\n",
              "      --hover-bg-color: #434B5C;\n",
              "      --hover-fill-color: #FFFFFF;\n",
              "      --disabled-bg-color: #3B4455;\n",
              "      --disabled-fill-color: #666;\n",
              "  }\n",
              "\n",
              "  .colab-df-quickchart {\n",
              "    background-color: var(--bg-color);\n",
              "    border: none;\n",
              "    border-radius: 50%;\n",
              "    cursor: pointer;\n",
              "    display: none;\n",
              "    fill: var(--fill-color);\n",
              "    height: 32px;\n",
              "    padding: 0;\n",
              "    width: 32px;\n",
              "  }\n",
              "\n",
              "  .colab-df-quickchart:hover {\n",
              "    background-color: var(--hover-bg-color);\n",
              "    box-shadow: 0 1px 2px rgba(60, 64, 67, 0.3), 0 1px 3px 1px rgba(60, 64, 67, 0.15);\n",
              "    fill: var(--button-hover-fill-color);\n",
              "  }\n",
              "\n",
              "  .colab-df-quickchart-complete:disabled,\n",
              "  .colab-df-quickchart-complete:disabled:hover {\n",
              "    background-color: var(--disabled-bg-color);\n",
              "    fill: var(--disabled-fill-color);\n",
              "    box-shadow: none;\n",
              "  }\n",
              "\n",
              "  .colab-df-spinner {\n",
              "    border: 2px solid var(--fill-color);\n",
              "    border-color: transparent;\n",
              "    border-bottom-color: var(--fill-color);\n",
              "    animation:\n",
              "      spin 1s steps(1) infinite;\n",
              "  }\n",
              "\n",
              "  @keyframes spin {\n",
              "    0% {\n",
              "      border-color: transparent;\n",
              "      border-bottom-color: var(--fill-color);\n",
              "      border-left-color: var(--fill-color);\n",
              "    }\n",
              "    20% {\n",
              "      border-color: transparent;\n",
              "      border-left-color: var(--fill-color);\n",
              "      border-top-color: var(--fill-color);\n",
              "    }\n",
              "    30% {\n",
              "      border-color: transparent;\n",
              "      border-left-color: var(--fill-color);\n",
              "      border-top-color: var(--fill-color);\n",
              "      border-right-color: var(--fill-color);\n",
              "    }\n",
              "    40% {\n",
              "      border-color: transparent;\n",
              "      border-right-color: var(--fill-color);\n",
              "      border-top-color: var(--fill-color);\n",
              "    }\n",
              "    60% {\n",
              "      border-color: transparent;\n",
              "      border-right-color: var(--fill-color);\n",
              "    }\n",
              "    80% {\n",
              "      border-color: transparent;\n",
              "      border-right-color: var(--fill-color);\n",
              "      border-bottom-color: var(--fill-color);\n",
              "    }\n",
              "    90% {\n",
              "      border-color: transparent;\n",
              "      border-bottom-color: var(--fill-color);\n",
              "    }\n",
              "  }\n",
              "</style>\n",
              "\n",
              "  <script>\n",
              "    async function quickchart(key) {\n",
              "      const quickchartButtonEl =\n",
              "        document.querySelector('#' + key + ' button');\n",
              "      quickchartButtonEl.disabled = true;  // To prevent multiple clicks.\n",
              "      quickchartButtonEl.classList.add('colab-df-spinner');\n",
              "      try {\n",
              "        const charts = await google.colab.kernel.invokeFunction(\n",
              "            'suggestCharts', [key], {});\n",
              "      } catch (error) {\n",
              "        console.error('Error during call to suggestCharts:', error);\n",
              "      }\n",
              "      quickchartButtonEl.classList.remove('colab-df-spinner');\n",
              "      quickchartButtonEl.classList.add('colab-df-quickchart-complete');\n",
              "    }\n",
              "    (() => {\n",
              "      let quickchartButtonEl =\n",
              "        document.querySelector('#df-0fe24020-1ac7-48a6-b5f7-10a3a07bcd67 button');\n",
              "      quickchartButtonEl.style.display =\n",
              "        google.colab.kernel.accessAllowed ? 'block' : 'none';\n",
              "    })();\n",
              "  </script>\n",
              "</div>\n",
              "\n",
              "    </div>\n",
              "  </div>\n"
            ],
            "application/vnd.google.colaboratory.intrinsic+json": {
              "type": "dataframe",
              "variable_name": "data_dictionary",
              "summary": "{\n  \"name\": \"data_dictionary\",\n  \"rows\": 45,\n  \"fields\": [\n    {\n      \"column\": \"file\",\n      \"properties\": {\n        \"dtype\": \"category\",\n        \"num_unique_values\": 5,\n        \"samples\": [\n          \"case_images.parquet\",\n          \"cases.parquet\",\n          \"abstracts.parquet\"\n        ],\n        \"semantic_type\": \"\",\n        \"description\": \"\"\n      }\n    },\n    {\n      \"column\": \"field\",\n      \"properties\": {\n        \"dtype\": \"string\",\n        \"num_unique_values\": 38,\n        \"samples\": [\n          \"link\",\n          \"age\",\n          \"patient_id\"\n        ],\n        \"semantic_type\": \"\",\n        \"description\": \"\"\n      }\n    },\n    {\n      \"column\": \"explanation\",\n      \"properties\": {\n        \"dtype\": \"string\",\n        \"num_unique_values\": 38,\n        \"samples\": [\n          \"Link to the article.\",\n          \"Age of the patient. Ages lower than 1 y.o. are assigned 0 as age.\",\n          \"Id of the patient, created combining the PMC of the article plus a sequential number.\"\n        ],\n        \"semantic_type\": \"\",\n        \"description\": \"\"\n      }\n    }\n  ]\n}"
            }
          },
          "metadata": {},
          "execution_count": 5
        }
      ]
    },
    {
      "cell_type": "markdown",
      "source": [
        "## 2. Defining your Filters"
      ],
      "metadata": {
        "id": "A3S8wV6v6T76"
      }
    },
    {
      "cell_type": "markdown",
      "source": [
        "The part of the whole dataset that will be included in your customized subset depends on the list of filters that you use. Some filters work at an article level (e.g. _min_year_ filters by the year of the case report article), others work at a patient level (e.g. _gender_) and some others work at an image level (e.g. _caption_).\n",
        "\n",
        "Each filter is a dictionary with a 'field' key (name of the filter, such as 'min_year' or 'gender') and a 'string_list' key (relevant values that are used to filter). They can also have other keys sometimes, as we will explain in this section.\n",
        "\n",
        "Note: In order to know which are the possible values that can be introduced in a string list, you can display the corresponding parameter from MedicalDatasetCreator (e.g. mdc.year_list or mdc.gender_list).\n",
        "\n",
        "- _min_year_: Minimum article year that is included in the subset. The dataset includes articles from 1990 on, so values lower than that (like string_list = ['1980']) don't make sense.\n",
        "\n",
        "- _max_year_: Maximum article year that is included in the subset. The dataset includes articles until 2024.\n",
        "\n",
        "- _license_: Article license types that are included. These are the possible license types:\n",
        "  - Commercial use allowed: CC0, CC BY, CC BY-SA, CC BY-ND\n",
        "  - Non-commercial use only: CC BY-NC, CC BY-NC-SA, CC BY-NC-ND\n",
        "  - Other: author_manuscript, NO-CC CODE\n",
        "  \n",
        "  So, if you are willing to use the dataset for a commercial purpose, you should use string_list&nbsp;=&nbsp;['CC0', 'CC BY', 'CC BY-SA' 'CC BY-ND'].\n",
        "\n",
        "- _keywords_: This filter considers the keywords from the article metadata\n",
        "  - There are around 87K keywords, which can be displayed using the .keyword_list param.\n",
        "  - You can add the key 'operator' to this type of filter when you are including more than one keyword in your string_list. The value for this 'operator' can be 'all' (by default), 'any' or 'none' depending on if the article metadata should include all the listed keywords, at least one of them or none of them, respectively.\n",
        "  - You can add the key 'match_type', which can be either 'full_match' (by default) or 'partial_match'. For example, the filter {'field': 'keywords', 'string_list': ['diabetes'], 'match_type': 'partial_match'} will retrieve all the cases with at least one keyword that contains the substring 'diabetes'. If 'full_match' were used, the filter would only retrieve cases which include the keyword 'diabetes' (exact match).\n",
        "\n",
        "- _mesh_terms_: This filter considers the MeSH terms from the article metadata\n",
        "  - There are more than 38K MeSH terms, which can be displayed using the .mesh_term_list param.\n",
        "  - You can add the keys 'operator' and 'match_type' (see _keywords_).\n",
        "\n",
        "- _min_age_: Minimum patient age that is included in the subset.\n",
        "\n",
        "- _max_age_: Maximum patient age that is included in the subset.\n",
        "\n",
        "- _gender_: Gender classes that should be included in the subset. The possible values are: 'Female', 'Male', 'Transgender' and 'Unknown'.\n",
        "\n",
        "- _case_strings_: This filter looks for clinical cases that contain specific strings. It does not differentiate lowercase from uppercase. The key 'operator' can be added (see _keywords_).\n",
        "\n",
        "- _caption_: This filter looks for image captions that contain specific strings. The key 'operator' can be added (see _keywords_). If you want this filter to differentiate between lowercase and uppercase, you should add 'matching_case'&nbsp;=&nbsp;True.\n",
        "\n",
        "- _label_: This field refers to labels used to tag images. There are 141 of them, including radiology types ('ct', 'mri', 'x_ray', 'ultrasound', etc), pathology types ('h&e', 'ihc', etc), anatomical region ('head', 'thorax', 'abdomen', 'pelvis', etc), anatomical view ('axial', 'sagittal', 'frontal', 'oblique', etc), and many others. The full list can be accessed running `mdc.image_label_list`. The key 'operator' can be added (see _keywords_)."
      ],
      "metadata": {
        "id": "H-HvG5SMEr0L"
      }
    },
    {
      "cell_type": "code",
      "source": [
        "print(sorted(mdc.image_label_list))"
      ],
      "metadata": {
        "colab": {
          "base_uri": "https://localhost:8080/"
        },
        "id": "Fy1uSBj7q9PN",
        "outputId": "f588822d-7dfa-422c-dadf-577b6bf43293"
      },
      "execution_count": 16,
      "outputs": [
        {
          "output_type": "stream",
          "name": "stdout",
          "text": [
            "['2_chamber', '3_chamber', '3d', '4_chamber', '5_chamber', 'abdomen', 'acid_fast', 'alcian_blue', 'angiography', 'ankle', 'anterior_segment_image', 'anteroposterior', 'apical', 'arteriogram', 'arthroscopy', 'autofluorescence', 'axial', 'b_scan', 'bone_window', 'brain_window', 'breast', 'bronchoscopy', 'caudal_view', 'cephalometry', 'chart', 'cholangiogram', 'cmr', 'colonoscopy', 'cone_beam', 'congo_red', 'contrast', 'cranial_view', 'ct', 'cta', 'cystoscopy', 'dental_view', 'doppler', 'dwi', 'echocardiogram', 'eeg', 'egd', 'ekg', 'elbow', 'electrography', 'emg', 'endoscopy', 'enteroscopy', 'fat_suppression', 'fish', 'flair', 'fluorescein_angiography', 'foot', 'forearm', 'frontal', 'fundus_photograph', 'gastroscopy', 'giemsa', 'gonioscopy', 'gram', 'h&e', 'hand', 'head', 'hip', 'hysteroscopy', 'icga', 'ihc', 'immunofluorescence', 'immunostaining', 'ir', 'ivus', 'knee', 'laryngoscopy', 'left', 'long_axis', 'lower_leg', 'lower_limb', 'lung_window', 'm_mode', 'malignant', 'mammography', 'mass', 'masson_trichrome', 'medical_photograph', 'methenamine_silver', 'methylene_blue', 'mip', 'mra', 'mrcp', 'mri', 'myelogram', 'nbi', 'neck', 'nuclear_medicine', 'oblique', 'occlusal', 'oct', 'opg', 'ophthalmic_angiography', 'ophthalmic_imaging', 'oral_photograph', 'other_medical_photograph', 'panoramic', 'papanicolaou', 'parasternal', 'pas', 'pathology', 'pelvis', 'periapical', 'pet', 'posteroanterior', 'radiology', 'right', 'sagittal', 'scintigraphy', 'short_axis', 'shoulder', 'skin_photograph', 'slit_lamp_photograph', 'soft_tissue_window', 'spect', 'spectral_domain', 'spin_echo', 'stir', 'subcostal', 'suprasternal', 't1', 't2', 'thigh', 'thorax', 'transabdominal', 'transesophageal', 'transthoracic', 'transvaginal', 'ultrasound', 'upper_arm', 'upper_limb', 'van_gieson', 'venogram', 'whole_body', 'wrist', 'x_ray']\n"
          ]
        }
      ]
    },
    {
      "cell_type": "markdown",
      "source": [
        "## 3. Creating a Customized Dataset"
      ],
      "metadata": {
        "id": "PMWqCMUY6XXW"
      }
    },
    {
      "cell_type": "markdown",
      "source": [
        "Now that you know everything about filters, you can create your own subset by using the .create_dataset() method.\n",
        "- dataset_name (str): Name of the new subset. The data will be saved in a folder with this name inside the directory define when instantiating the MedicalDatasetCreator class.\n",
        "- filter_list (list): List of filter dictionaries.\n",
        "- dataset_type (str): Required type of dataset. It can be either 'text', 'image', 'multimodal' (default value) or 'case_series'. All the dataset types will include a readme.txt, a reference_list.json (with citation information from case report articles) and an article_metadata.json. Apart from this, each dataset contains different files:\n",
        "  - text: The dataset contains a csv file with case information.\n",
        "  - image: The dataset contains a folder with images, and a json file image metadata.\n",
        "  - multimodal: The dataset contains a combination of the files from text and image datasets.\n",
        "  - case_series: The dataset contains a folder with images (there is one folder per patient), and a csv file with cases.\n",
        "\n",
        "If you want to create multiple subsets, you just need to use the .create_dataset() method multiple times using different dataset names and filters (there is no need to instantiate the MedicalDatasetCreator class each time)."
      ],
      "metadata": {
        "id": "Yqo6PIaNo1yb"
      }
    },
    {
      "cell_type": "markdown",
      "source": [
        "## Example"
      ],
      "metadata": {
        "id": "DmhPyOSitivy"
      }
    },
    {
      "cell_type": "markdown",
      "source": [
        "Let's create a multimodal subset with adult male patients with brain MRI images and mentions related to cancer in the text of the case and in captions. This will only take some minutes."
      ],
      "metadata": {
        "id": "2mw1bJ3Asr1r"
      }
    },
    {
      "cell_type": "code",
      "source": [
        "filters = [{'field': 'min_age', 'string_list': ['18']},\n",
        "           {'field': 'gender', 'string_list': ['Male']},\n",
        "           {'field': 'case_strings', 'string_list': ['tumor', 'cancer', 'carcinoma'], 'operator': 'any'},\n",
        "           {'field': 'caption', 'string_list': ['metastasis', 'tumor', 'mass'], 'operator': 'any'},\n",
        "           {'field': 'label', 'string_list': ['mri', 'head']}]"
      ],
      "metadata": {
        "id": "zSiXeYsT6bFp"
      },
      "execution_count": 20,
      "outputs": []
    },
    {
      "cell_type": "code",
      "source": [
        "mdc.create_dataset(dataset_name = 'male_brain_tumor_dataset', filter_list = filters, dataset_type = 'multimodal')"
      ],
      "metadata": {
        "id": "HxGvjEjZ6bcS",
        "colab": {
          "base_uri": "https://localhost:8080/"
        },
        "outputId": "e0f088e1-e003-4e02-c28e-17f1d4458486"
      },
      "execution_count": 21,
      "outputs": [
        {
          "output_type": "stream",
          "name": "stdout",
          "text": [
            "The male_brain_tumors_dataset was successfully created!\n"
          ]
        }
      ]
    },
    {
      "cell_type": "code",
      "source": [
        "print(\"The subset includes:\")\n",
        "print(f\"  - Amount of patients: {len(mdc.filtered_cases)}\")\n",
        "print(f\"  - Amount of images: {len(mdc.filtered_image_metadata_df)}\")\n",
        "print(f\"  - Subset contents: {os.listdir(f'{mdc.directory}/{mdc.dataset_name}')}\")"
      ],
      "metadata": {
        "colab": {
          "base_uri": "https://localhost:8080/"
        },
        "id": "z7XiwrG-sR7b",
        "outputId": "41b4a579-2cb0-4662-ca49-ae7e00741967"
      },
      "execution_count": 22,
      "outputs": [
        {
          "output_type": "stream",
          "name": "stdout",
          "text": [
            "The subset includes:\n",
            "  - Amount of patients: 11726\n",
            "  - Amount of images: 834\n",
            "  - Subset contents: ['article_metadata.json', 'readme.txt', 'cases.csv', 'case_report_citations.json', 'image_metadata.json', 'images']\n"
          ]
        }
      ]
    },
    {
      "cell_type": "markdown",
      "source": [
        "Now let's display one example. Notice that in this multimodal dataset, image references (such as 'Figure 1') have been replaced with the actual file names. They can also be replaced with specific image tokens by using the parameter image_token = 'token_example'."
      ],
      "metadata": {
        "id": "AY2gYWS2r8MC"
      }
    },
    {
      "cell_type": "code",
      "source": [
        "mdc.display_example()"
      ],
      "metadata": {
        "colab": {
          "base_uri": "https://localhost:8080/",
          "height": 1000
        },
        "id": "IAy1wadrr1Er",
        "outputId": "fc85d65b-cffd-4571-d1b5-6755563f6880"
      },
      "execution_count": 23,
      "outputs": [
        {
          "output_type": "display_data",
          "data": {
            "text/plain": [
              "<IPython.core.display.Markdown object>"
            ],
            "text/markdown": "**Case PMC10018421_01:**"
          },
          "metadata": {}
        },
        {
          "output_type": "display_data",
          "data": {
            "text/plain": [
              "'Gender: Male'"
            ],
            "application/vnd.google.colaboratory.intrinsic+json": {
              "type": "string"
            }
          },
          "metadata": {}
        },
        {
          "output_type": "display_data",
          "data": {
            "text/plain": [
              "'Age: 32'"
            ],
            "application/vnd.google.colaboratory.intrinsic+json": {
              "type": "string"
            }
          },
          "metadata": {}
        },
        {
          "output_type": "display_data",
          "data": {
            "text/plain": [
              "'Clinical Case:'"
            ],
            "application/vnd.google.colaboratory.intrinsic+json": {
              "type": "string"
            }
          },
          "metadata": {}
        },
        {
          "output_type": "display_data",
          "data": {
            "text/plain": [
              "\"A 32-year-old male presented with a history of intermittent headache for 5 months followed by progressive gait disturbances and blurry vision. His medical and family history was insignificant. His physical examination showed ataxia and cerebellar signs including dysmetria and dysdiadochokinesia in the right upper and lower limbs. Decreased visual acuity was noted in both eyes with bilateral papilledema on ophthalmologic exam. The rest of the examination was otherwise normal. Brain MRI revealed a lesion in the right cerebellar hemisphere. The patient underwent a suboccipital craniotomy. During the procedure, frozen sections were misinterpreted as high-grade malignant glioma. The neurosurgeon decided to proceed with subtotal resection because the risks of gross total resection (GTR) outweighed the benefits considering the aggressive nature of the suspected tumor. Adjuvant therapy with a combination of radiotherapy and chemotherapy with temozolomide was initiated. Two years after surgery, the patient complained of reemergence of symptoms including gait disturbance and morning headaches suggestive of increased intracranial pressure. Brain MRI showed a 4.4 x 4.0 cm ill-defined lesion in the right cerebellum with a mixed cystic-solid pattern (shown in <PMC10018421_crn-2023-0015-0001-529741_f1_a_1_4.webp><PMC10018421_crn-2023-0015-0001-529741_f1_b_2_4.webp><PMC10018421_crn-2023-0015-0001-529741_f1_c_3_4.webp><PMC10018421_crn-2023-0015-0001-529741_f1_d_4_4.webp>). Cystic components of the tumor were hypointense on T1- and hyperintense on T2-weighted images, whereas the solid components of the tumor were hypointense or isointense on T1- and slightly hyperintense on T2-weighted images. Gadolinium-enhanced T1-weighted images showed marked enhancement of the cystic walls. The unusual clinical course and radiologic features raised suspicion for a more benign tumor than high-grade glioma. The patient underwent another surgery to alleviate the symptoms and reassess the residual lesion. During this surgery, the frozen sections suggested the diagnosis of PXA; therefore, the neurosurgeon conducted GTR. The histopathological and the immunohistochemical studies confirmed the diagnosis of PXA and eliminated the initial diagnosis as high-grade glioma is not consistent with the histopathological studies' findings. The postoperative follow-up was without complications. The patient was closely monitored thereafter.\""
            ],
            "application/vnd.google.colaboratory.intrinsic+json": {
              "type": "string"
            }
          },
          "metadata": {}
        },
        {
          "output_type": "display_data",
          "data": {
            "text/plain": [
              "<IPython.core.display.Markdown object>"
            ],
            "text/markdown": "**Image:**"
          },
          "metadata": {}
        },
        {
          "output_type": "display_data",
          "data": {
            "image/png": "[encoded data removed]",
            "text/plain": [
              "<IPython.core.display.Image object>"
            ]
          },
          "metadata": {}
        },
        {
          "output_type": "display_data",
          "data": {
            "text/plain": [
              "<IPython.core.display.Markdown object>"
            ],
            "text/markdown": "**Image Labels:**"
          },
          "metadata": {}
        },
        {
          "output_type": "display_data",
          "data": {
            "text/plain": [
              "<IPython.core.display.Markdown object>"
            ],
            "text/markdown": "['radiology', 't1', 'head', 'sagittal', 'mri', 'mass', 'contrast', 'spin_echo', 'head', 'radiology', 'sagittal', 'mri']"
          },
          "metadata": {}
        },
        {
          "output_type": "display_data",
          "data": {
            "text/plain": [
              "<IPython.core.display.Markdown object>"
            ],
            "text/markdown": "**Image Caption:**"
          },
          "metadata": {}
        },
        {
          "output_type": "display_data",
          "data": {
            "text/plain": [
              "<IPython.core.display.Markdown object>"
            ],
            "text/markdown": "Mixed cystic-solid pattern of PXA. MR images show multiple cystic lesions and solid masses located in the right cerebellar hemisphere. A; Sagittal view T1-weighted with contrast."
          },
          "metadata": {}
        },
        {
          "output_type": "display_data",
          "data": {
            "text/plain": [
              "<IPython.core.display.Markdown object>"
            ],
            "text/markdown": "**Citation Information:**"
          },
          "metadata": {}
        },
        {
          "output_type": "display_data",
          "data": {
            "text/plain": [
              "{'pmcid': 'PMC10018421',\n",
              " 'doi': '10.1159/000529741',\n",
              " 'pmid': '36938309',\n",
              " 'title': 'A Recurrent Pleomorphic Xanthoastrocytoma in the Cerebellum in a Young Adult: A Case Report and Review of the Literature',\n",
              " 'year': '2023',\n",
              " 'authors': ['Ruba Aljendi',\n",
              "  'Mohammed Amr Knifaty',\n",
              "  'Mohammed Amin',\n",
              "  'Souliman Diab',\n",
              "  'Muhammad Saleh Ali',\n",
              "  'Zuheir Alshehabi'],\n",
              " 'journal': 'Case Rep Neurol',\n",
              " 'journal_detail': '2023 Feb 17;15(1):54-62.',\n",
              " 'link': 'https://pubmed.ncbi.nlm.nih.gov/36938309/',\n",
              " 'license': 'CC BY-NC'}"
            ]
          },
          "metadata": {}
        }
      ]
    },
    {
      "cell_type": "markdown",
      "source": [
        "And that's it! Enjoy your customized datasets! 🙂"
      ],
      "metadata": {
        "id": "ubGG59c6sFv1"
      }
    }
  ]
}