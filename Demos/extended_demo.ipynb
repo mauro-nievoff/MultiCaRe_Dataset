{
  "nbformat": 4,
  "nbformat_minor": 0,
  "metadata": {
    "colab": {
      "provenance": [],
      "authorship_tag": "ABX9TyOL4wE3/zUCvgiEUjamo6NA",
      "include_colab_link": true
    },
    "kernelspec": {
      "name": "python3",
      "display_name": "Python 3"
    },
    "language_info": {
      "name": "python"
    }
  },
  "cells": [
    {
      "cell_type": "markdown",
      "metadata": {
        "id": "view-in-github",
        "colab_type": "text"
      },
      "source": [
        "<a href=\"https://colab.research.google.com/github/mauro-nievoff/MultiCaRe_Dataset/blob/main/demos/Extended_Demo.ipynb\" target=\"_parent\"><img src=\"https://colab.research.google.com/assets/colab-badge.svg\" alt=\"Open In Colab\"/></a>"
      ]
    },
    {
      "cell_type": "markdown",
      "source": [
        "# MedicalDatasetCreator Demo"
      ],
      "metadata": {
        "id": "LjjQ6FRU4wEt"
      }
    },
    {
      "cell_type": "markdown",
      "source": [
        "The MedicalDatasetCreator is a class used to simplify the creation of customized subsets of the [MultiCaRe Dataset](https://zenodo.org/records/10079370).\n",
        "\n",
        "This notebook is divided into three sections:\n",
        "\n",
        "1. Downloading the whole MultiCaRe Dataset\n",
        "2. Defining your Filters\n",
        "3. Creating a Customized Dataset\n",
        "\n",
        "Before starting, run the following cells to set everything up:"
      ],
      "metadata": {
        "id": "PYfVPjUX5iyU"
      }
    },
    {
      "cell_type": "code",
      "execution_count": 1,
      "metadata": {
        "colab": {
          "base_uri": "https://localhost:8080/"
        },
        "id": "tilN-ZXS4fkJ",
        "outputId": "f5db12ba-02b8-480e-c823-88e530e7dc47"
      },
      "outputs": [
        {
          "output_type": "stream",
          "name": "stdout",
          "text": [
            "Cloning into 'MultiCaRe_Dataset'...\n",
            "remote: Enumerating objects: 113, done.\u001b[K\n",
            "remote: Counting objects: 100% (26/26), done.\u001b[K\n",
            "remote: Compressing objects: 100% (17/17), done.\u001b[K\n",
            "remote: Total 113 (delta 17), reused 9 (delta 9), pack-reused 87\u001b[K\n",
            "Receiving objects: 100% (113/113), 1.34 MiB | 15.20 MiB/s, done.\n",
            "Resolving deltas: 100% (57/57), done.\n"
          ]
        }
      ],
      "source": [
        "!git clone https://github.com/mauro-nievoff/MultiCaRe_Dataset\n",
        "\n",
        "from MultiCaRe_Dataset.multicare import MedicalDatasetCreator"
      ]
    },
    {
      "cell_type": "code",
      "source": [
        "import os\n",
        "import pandas as pd"
      ],
      "metadata": {
        "id": "dz8KAUy15H9F"
      },
      "execution_count": 2,
      "outputs": []
    },
    {
      "cell_type": "markdown",
      "source": [
        "Ok now, let's start!"
      ],
      "metadata": {
        "id": "SAvN044__Xxk"
      }
    },
    {
      "cell_type": "markdown",
      "source": [
        "## 1. Downloading the Whole MultiCaRe Dataset"
      ],
      "metadata": {
        "id": "4QO3gApn6KFz"
      }
    },
    {
      "cell_type": "markdown",
      "source": [
        "When the MedicalDatasetCreator class is instantiated, the MultiCaRe Dataset is imported from Zenodo into a folder called 'whole_multicare_dataset' in the main directory. This main directory is called 'MultiCaRe' by default, but this name can be changed (e.g. we are naming it 'medical_datasets' in this example).\n",
        "\n",
        "This step may take 5 to 10 minutes, and you only need to run it once (even if you intend to create multiple subsets)."
      ],
      "metadata": {
        "id": "51Q9jJaX-3Bd"
      }
    },
    {
      "cell_type": "code",
      "source": [
        "mdc = MedicalDatasetCreator(directory = 'medical_datasets')"
      ],
      "metadata": {
        "colab": {
          "base_uri": "https://localhost:8080/"
        },
        "id": "ml7KGkU54p6I",
        "outputId": "ca36fcca-afe3-41f7-e91e-732914ad126c"
      },
      "execution_count": 4,
      "outputs": [
        {
          "output_type": "stream",
          "name": "stdout",
          "text": [
            "Downloading the MultiCaRe Dataset from Zenodo. This may take 5 to 10 minutes.\n",
            "Importing and pre-processing the main files.\n",
            "Done!\n"
          ]
        }
      ]
    },
    {
      "cell_type": "markdown",
      "source": [
        "Let's see what we find in the dataset folder:"
      ],
      "metadata": {
        "id": "DiLWx3wbBE0k"
      }
    },
    {
      "cell_type": "code",
      "source": [
        "sorted(os.listdir('medical_datasets/whole_multicare_dataset'))"
      ],
      "metadata": {
        "colab": {
          "base_uri": "https://localhost:8080/"
        },
        "id": "l5rzggVF4qBN",
        "outputId": "3c16320a-3fbf-4581-9f0e-b8d5b176a233"
      },
      "execution_count": null,
      "outputs": [
        {
          "output_type": "execute_result",
          "data": {
            "text/plain": [
              "['PMC1',\n",
              " 'PMC2',\n",
              " 'PMC3',\n",
              " 'PMC4',\n",
              " 'PMC5',\n",
              " 'PMC6',\n",
              " 'PMC7',\n",
              " 'PMC8',\n",
              " 'PMC9',\n",
              " 'abstracts.parquet',\n",
              " 'captions_and_labels.csv',\n",
              " 'case_images.parquet',\n",
              " 'cases.parquet',\n",
              " 'data_dictionary.csv',\n",
              " 'metadata.parquet']"
            ]
          },
          "metadata": {},
          "execution_count": 5
        }
      ]
    },
    {
      "cell_type": "markdown",
      "source": [
        "The first nine elements are folders that contain subfolders with images, and then there are some files (parquets and csvs) with the relevant data and metadata.\n",
        "\n",
        "If you want to have a better idea about the contents of these files you can check _data_dictionary.csv_ (see the cell below), although this is not necessary at all: the _create_dataset_ method has all you need to create and preprocess a customized subset."
      ],
      "metadata": {
        "id": "G0cKM58qBKhV"
      }
    },
    {
      "cell_type": "code",
      "source": [
        "data_dictionary = pd.read_csv('medical_datasets/whole_multicare_dataset/data_dictionary.csv')\n",
        "\n",
        "data_dictionary.head()"
      ],
      "metadata": {
        "colab": {
          "base_uri": "https://localhost:8080/",
          "height": 206
        },
        "id": "2IlVaSGlDW85",
        "outputId": "fc5dc21a-f1e1-4199-892a-831bf9308172"
      },
      "execution_count": null,
      "outputs": [
        {
          "output_type": "execute_result",
          "data": {
            "text/plain": [
              "                      file       field  \\\n",
              "0  captions_and_labels.csv     file_id   \n",
              "1  captions_and_labels.csv        file   \n",
              "2  captions_and_labels.csv  main_image   \n",
              "3  captions_and_labels.csv  patient_id   \n",
              "4  captions_and_labels.csv     license   \n",
              "\n",
              "                                         explanation  \n",
              "0  Primary key for each row. Each row contains on...  \n",
              "1  Name of the image file. The file is in the fol...  \n",
              "2  Id from the original image (it corresponds to ...  \n",
              "3  Id of the patient, created combining the PMC o...  \n",
              "4  License of the article. The possible values ar...  "
            ],
            "text/html": [
              "\n",
              "  <div id=\"df-5b47c373-0cf8-42c9-bf91-e8b95665959c\" class=\"colab-df-container\">\n",
              "    <div>\n",
              "<style scoped>\n",
              "    .dataframe tbody tr th:only-of-type {\n",
              "        vertical-align: middle;\n",
              "    }\n",
              "\n",
              "    .dataframe tbody tr th {\n",
              "        vertical-align: top;\n",
              "    }\n",
              "\n",
              "    .dataframe thead th {\n",
              "        text-align: right;\n",
              "    }\n",
              "</style>\n",
              "<table border=\"1\" class=\"dataframe\">\n",
              "  <thead>\n",
              "    <tr style=\"text-align: right;\">\n",
              "      <th></th>\n",
              "      <th>file</th>\n",
              "      <th>field</th>\n",
              "      <th>explanation</th>\n",
              "    </tr>\n",
              "  </thead>\n",
              "  <tbody>\n",
              "    <tr>\n",
              "      <th>0</th>\n",
              "      <td>captions_and_labels.csv</td>\n",
              "      <td>file_id</td>\n",
              "      <td>Primary key for each row. Each row contains on...</td>\n",
              "    </tr>\n",
              "    <tr>\n",
              "      <th>1</th>\n",
              "      <td>captions_and_labels.csv</td>\n",
              "      <td>file</td>\n",
              "      <td>Name of the image file. The file is in the fol...</td>\n",
              "    </tr>\n",
              "    <tr>\n",
              "      <th>2</th>\n",
              "      <td>captions_and_labels.csv</td>\n",
              "      <td>main_image</td>\n",
              "      <td>Id from the original image (it corresponds to ...</td>\n",
              "    </tr>\n",
              "    <tr>\n",
              "      <th>3</th>\n",
              "      <td>captions_and_labels.csv</td>\n",
              "      <td>patient_id</td>\n",
              "      <td>Id of the patient, created combining the PMC o...</td>\n",
              "    </tr>\n",
              "    <tr>\n",
              "      <th>4</th>\n",
              "      <td>captions_and_labels.csv</td>\n",
              "      <td>license</td>\n",
              "      <td>License of the article. The possible values ar...</td>\n",
              "    </tr>\n",
              "  </tbody>\n",
              "</table>\n",
              "</div>\n",
              "    <div class=\"colab-df-buttons\">\n",
              "\n",
              "  <div class=\"colab-df-container\">\n",
              "    <button class=\"colab-df-convert\" onclick=\"convertToInteractive('df-5b47c373-0cf8-42c9-bf91-e8b95665959c')\"\n",
              "            title=\"Convert this dataframe to an interactive table.\"\n",
              "            style=\"display:none;\">\n",
              "\n",
              "  <svg xmlns=\"http://www.w3.org/2000/svg\" height=\"24px\" viewBox=\"0 -960 960 960\">\n",
              "    <path d=\"M120-120v-720h720v720H120Zm60-500h600v-160H180v160Zm220 220h160v-160H400v160Zm0 220h160v-160H400v160ZM180-400h160v-160H180v160Zm440 0h160v-160H620v160ZM180-180h160v-160H180v160Zm440 0h160v-160H620v160Z\"/>\n",
              "  </svg>\n",
              "    </button>\n",
              "\n",
              "  <style>\n",
              "    .colab-df-container {\n",
              "      display:flex;\n",
              "      gap: 12px;\n",
              "    }\n",
              "\n",
              "    .colab-df-convert {\n",
              "      background-color: #E8F0FE;\n",
              "      border: none;\n",
              "      border-radius: 50%;\n",
              "      cursor: pointer;\n",
              "      display: none;\n",
              "      fill: #1967D2;\n",
              "      height: 32px;\n",
              "      padding: 0 0 0 0;\n",
              "      width: 32px;\n",
              "    }\n",
              "\n",
              "    .colab-df-convert:hover {\n",
              "      background-color: #E2EBFA;\n",
              "      box-shadow: 0px 1px 2px rgba(60, 64, 67, 0.3), 0px 1px 3px 1px rgba(60, 64, 67, 0.15);\n",
              "      fill: #174EA6;\n",
              "    }\n",
              "\n",
              "    .colab-df-buttons div {\n",
              "      margin-bottom: 4px;\n",
              "    }\n",
              "\n",
              "    [theme=dark] .colab-df-convert {\n",
              "      background-color: #3B4455;\n",
              "      fill: #D2E3FC;\n",
              "    }\n",
              "\n",
              "    [theme=dark] .colab-df-convert:hover {\n",
              "      background-color: #434B5C;\n",
              "      box-shadow: 0px 1px 3px 1px rgba(0, 0, 0, 0.15);\n",
              "      filter: drop-shadow(0px 1px 2px rgba(0, 0, 0, 0.3));\n",
              "      fill: #FFFFFF;\n",
              "    }\n",
              "  </style>\n",
              "\n",
              "    <script>\n",
              "      const buttonEl =\n",
              "        document.querySelector('#df-5b47c373-0cf8-42c9-bf91-e8b95665959c button.colab-df-convert');\n",
              "      buttonEl.style.display =\n",
              "        google.colab.kernel.accessAllowed ? 'block' : 'none';\n",
              "\n",
              "      async function convertToInteractive(key) {\n",
              "        const element = document.querySelector('#df-5b47c373-0cf8-42c9-bf91-e8b95665959c');\n",
              "        const dataTable =\n",
              "          await google.colab.kernel.invokeFunction('convertToInteractive',\n",
              "                                                    [key], {});\n",
              "        if (!dataTable) return;\n",
              "\n",
              "        const docLinkHtml = 'Like what you see? Visit the ' +\n",
              "          '<a target=\"_blank\" href=https://colab.research.google.com/notebooks/data_table.ipynb>data table notebook</a>'\n",
              "          + ' to learn more about interactive tables.';\n",
              "        element.innerHTML = '';\n",
              "        dataTable['output_type'] = 'display_data';\n",
              "        await google.colab.output.renderOutput(dataTable, element);\n",
              "        const docLink = document.createElement('div');\n",
              "        docLink.innerHTML = docLinkHtml;\n",
              "        element.appendChild(docLink);\n",
              "      }\n",
              "    </script>\n",
              "  </div>\n",
              "\n",
              "\n",
              "<div id=\"df-17f41b35-9fa2-4da8-8e07-0578ddda471e\">\n",
              "  <button class=\"colab-df-quickchart\" onclick=\"quickchart('df-17f41b35-9fa2-4da8-8e07-0578ddda471e')\"\n",
              "            title=\"Suggest charts\"\n",
              "            style=\"display:none;\">\n",
              "\n",
              "<svg xmlns=\"http://www.w3.org/2000/svg\" height=\"24px\"viewBox=\"0 0 24 24\"\n",
              "     width=\"24px\">\n",
              "    <g>\n",
              "        <path d=\"M19 3H5c-1.1 0-2 .9-2 2v14c0 1.1.9 2 2 2h14c1.1 0 2-.9 2-2V5c0-1.1-.9-2-2-2zM9 17H7v-7h2v7zm4 0h-2V7h2v10zm4 0h-2v-4h2v4z\"/>\n",
              "    </g>\n",
              "</svg>\n",
              "  </button>\n",
              "\n",
              "<style>\n",
              "  .colab-df-quickchart {\n",
              "      --bg-color: #E8F0FE;\n",
              "      --fill-color: #1967D2;\n",
              "      --hover-bg-color: #E2EBFA;\n",
              "      --hover-fill-color: #174EA6;\n",
              "      --disabled-fill-color: #AAA;\n",
              "      --disabled-bg-color: #DDD;\n",
              "  }\n",
              "\n",
              "  [theme=dark] .colab-df-quickchart {\n",
              "      --bg-color: #3B4455;\n",
              "      --fill-color: #D2E3FC;\n",
              "      --hover-bg-color: #434B5C;\n",
              "      --hover-fill-color: #FFFFFF;\n",
              "      --disabled-bg-color: #3B4455;\n",
              "      --disabled-fill-color: #666;\n",
              "  }\n",
              "\n",
              "  .colab-df-quickchart {\n",
              "    background-color: var(--bg-color);\n",
              "    border: none;\n",
              "    border-radius: 50%;\n",
              "    cursor: pointer;\n",
              "    display: none;\n",
              "    fill: var(--fill-color);\n",
              "    height: 32px;\n",
              "    padding: 0;\n",
              "    width: 32px;\n",
              "  }\n",
              "\n",
              "  .colab-df-quickchart:hover {\n",
              "    background-color: var(--hover-bg-color);\n",
              "    box-shadow: 0 1px 2px rgba(60, 64, 67, 0.3), 0 1px 3px 1px rgba(60, 64, 67, 0.15);\n",
              "    fill: var(--button-hover-fill-color);\n",
              "  }\n",
              "\n",
              "  .colab-df-quickchart-complete:disabled,\n",
              "  .colab-df-quickchart-complete:disabled:hover {\n",
              "    background-color: var(--disabled-bg-color);\n",
              "    fill: var(--disabled-fill-color);\n",
              "    box-shadow: none;\n",
              "  }\n",
              "\n",
              "  .colab-df-spinner {\n",
              "    border: 2px solid var(--fill-color);\n",
              "    border-color: transparent;\n",
              "    border-bottom-color: var(--fill-color);\n",
              "    animation:\n",
              "      spin 1s steps(1) infinite;\n",
              "  }\n",
              "\n",
              "  @keyframes spin {\n",
              "    0% {\n",
              "      border-color: transparent;\n",
              "      border-bottom-color: var(--fill-color);\n",
              "      border-left-color: var(--fill-color);\n",
              "    }\n",
              "    20% {\n",
              "      border-color: transparent;\n",
              "      border-left-color: var(--fill-color);\n",
              "      border-top-color: var(--fill-color);\n",
              "    }\n",
              "    30% {\n",
              "      border-color: transparent;\n",
              "      border-left-color: var(--fill-color);\n",
              "      border-top-color: var(--fill-color);\n",
              "      border-right-color: var(--fill-color);\n",
              "    }\n",
              "    40% {\n",
              "      border-color: transparent;\n",
              "      border-right-color: var(--fill-color);\n",
              "      border-top-color: var(--fill-color);\n",
              "    }\n",
              "    60% {\n",
              "      border-color: transparent;\n",
              "      border-right-color: var(--fill-color);\n",
              "    }\n",
              "    80% {\n",
              "      border-color: transparent;\n",
              "      border-right-color: var(--fill-color);\n",
              "      border-bottom-color: var(--fill-color);\n",
              "    }\n",
              "    90% {\n",
              "      border-color: transparent;\n",
              "      border-bottom-color: var(--fill-color);\n",
              "    }\n",
              "  }\n",
              "</style>\n",
              "\n",
              "  <script>\n",
              "    async function quickchart(key) {\n",
              "      const quickchartButtonEl =\n",
              "        document.querySelector('#' + key + ' button');\n",
              "      quickchartButtonEl.disabled = true;  // To prevent multiple clicks.\n",
              "      quickchartButtonEl.classList.add('colab-df-spinner');\n",
              "      try {\n",
              "        const charts = await google.colab.kernel.invokeFunction(\n",
              "            'suggestCharts', [key], {});\n",
              "      } catch (error) {\n",
              "        console.error('Error during call to suggestCharts:', error);\n",
              "      }\n",
              "      quickchartButtonEl.classList.remove('colab-df-spinner');\n",
              "      quickchartButtonEl.classList.add('colab-df-quickchart-complete');\n",
              "    }\n",
              "    (() => {\n",
              "      let quickchartButtonEl =\n",
              "        document.querySelector('#df-17f41b35-9fa2-4da8-8e07-0578ddda471e button');\n",
              "      quickchartButtonEl.style.display =\n",
              "        google.colab.kernel.accessAllowed ? 'block' : 'none';\n",
              "    })();\n",
              "  </script>\n",
              "</div>\n",
              "    </div>\n",
              "  </div>\n"
            ]
          },
          "metadata": {},
          "execution_count": 6
        }
      ]
    },
    {
      "cell_type": "markdown",
      "source": [
        "## 2. Defining your Filters"
      ],
      "metadata": {
        "id": "A3S8wV6v6T76"
      }
    },
    {
      "cell_type": "markdown",
      "source": [
        "The part of the whole dataset that will be included in your customized subset depends on the list of filters that you use. Some filters work at an article level (e.g. _min_year_ filters by the year of the case report article), others work at a patient level (e.g. _gender_) and some others work at an image level (e.g. _caption_).\n",
        "\n",
        "Each filter is a dictionary with a 'field' key (name of the filter, such as 'min_year' or 'gender') and a 'string_list' key (relevant values that are used to filter). They can also have other keys sometimes, as we will explain in this section.\n",
        "\n",
        "Note: In order to know which are the possible values that can be introduced in a string list, you can display the corresponding parameter from MedicalDatasetCreator (e.g. mdc.year_list or mdc.gender_list).\n",
        "\n",
        "- _min_year_: Minimum article year that is included in the subset. The dataset includes articles from 1990 on, so values lower than that (like string_list = ['1980']) don't make sense.\n",
        "\n",
        "- _max_year_: Maximum article year that is included in the subset. The dataset includes articles until 2023.\n",
        "\n",
        "- _license_: Article license types that are included. These are the possible license types:\n",
        "  - Commercial use allowed: CC0, CC BY, CC BY-SA, CC BY-ND\n",
        "  - Non-commercial use only: CC BY-NC, CC BY-NC-SA, CC BY-NC-ND\n",
        "  - Other: author_manuscript, NO-CC CODE\n",
        "  \n",
        "  So, if you are willing to use the dataset for a commercial purpose, you should use string_list&nbsp;=&nbsp;['CC0', 'CC BY', 'CC BY-SA' 'CC BY-ND'].\n",
        "\n",
        "- _keywords_: This filter considers the keywords from the article metadata\n",
        "  - There are around 87K keywords, which can be displayed using the .keyword_list param.\n",
        "  - You can add the key 'operator' to this type of filter when you are including more than one keyword in your string_list. The value for this 'operator' can be 'all' (by default), 'any' or 'none' depending on if the article metadata should include all the listed keywords, at least one of them or none of them, respectively.\n",
        "  - You can add the key 'match_type', which can be either 'full_match' (by default) or 'partial_match'. For example, the filter {'field': 'keywords', 'string_list': ['diabetes'], 'match_type': 'partial_match'} will retrieve all the cases with at least one keyword that contains the substring 'diabetes'. If 'full_match' were used, the filter would only retrieve cases which include the keyword 'diabetes' (exact match).\n",
        "\n",
        "- _mesh_terms_: This filter considers the MeSH terms from the article metadata\n",
        "  - There are more than 38K MeSH terms, which can be displayed using the .mesh_term_list param.\n",
        "  - You can add the keys 'operator' and 'match_type' (see _keywords_).\n",
        "\n",
        "- _min_age_: Minimum patient age that is included in the subset.\n",
        "\n",
        "- _max_age_: Maximum patient age that is included in the subset.\n",
        "\n",
        "- _gender_: Gender classes that should be included in the subset. The possible values are: 'Female', 'Male', 'Transgender' and 'Unknown'.\n",
        "\n",
        "- _case_strings_: This filter looks for clinical cases that contain specific strings. It does not differentiate lowercase from uppercase. The key 'operator' can be added (see _keywords_).\n",
        "\n",
        "- _caption_: This filter looks for image captions that contain specific strings. The key 'operator' can be added (see _keywords_). If you want this filter to differentiate between lowercase and uppercase, you should add 'matching_case'&nbsp;=&nbsp;True.\n",
        "\n",
        "- _label_: This field refers to unspecific labels used to tag images. There are 19 of them, including Histology, Site, Position, Laterality, Image_Finding, Pathology_Test, Imaging_Test, Problem, Imaging_Technique, Other_Image_Type, EKG and EKG_Fiding, and also some less relevant classes (Assertion_Absent, Measurement_Value, Other, Modifier, Measurement_Unit, Negative_Entity_Class and Assertion_Present_And_Absent). The key 'operator' can be added (see _keywords_).\n",
        "\n",
        "- _normalized_extractions_: This field refers to specific labels used to tag images (such as 'ct', 'bone' or 'h&e'), created by normalizing text extractions from captions. There are 176 of them, which are displayed in the cell below. The key 'operator' can be used here as well (see _keywords_)."
      ],
      "metadata": {
        "id": "H-HvG5SMEr0L"
      }
    },
    {
      "cell_type": "code",
      "source": [
        "print('Possible values for the normalized_extraction filter:\\n')\n",
        "for key in mdc.normalized_extraction_list.keys():\n",
        "  if key != 'normalized_extractions': # key containing the full list, which is redundant here.\n",
        "    print(f\"'{key}': {mdc.normalized_extraction_list[key]}\")"
      ],
      "metadata": {
        "colab": {
          "base_uri": "https://localhost:8080/"
        },
        "id": "KhssxP6_hBLS",
        "outputId": "9c1259fc-751f-423f-95c7-1824b7dd6076"
      },
      "execution_count": 31,
      "outputs": [
        {
          "output_type": "stream",
          "name": "stdout",
          "text": [
            "Possible values for the normalized_extraction filter:\n",
            "\n",
            "'pathology_test': ['h&e', 'methenamine_silver', 'immunofluorescence', 'immunoreactivity', 'immunostaining', 'ihc', 'congo_red', 'ziehl_neelsen', 'masson_trichrome', 'culture', 'giemsa', 'acid_fast', 'pas', 'ki67', 'fish', 'papanicolaou', 'nuclear_staining', 'gram', 'red_stain', 'van_gieson', 'cytoplasmatic_staining', 'alcian_blue', 'green_birefringence', 'blue_stain', 'methylene_blue', 'cotton_blue', 'ck_5/6']\n",
            "'image_type': ['x_ray', 'ct', 'echocardiogram', 'mri', 'ultrasound', 'cta', 'pet', 'ekg', 'angiography', 'gastroscopy', 'mra', 'colonoscopy', 'dsa', 'endoscopy', 'eeg', 'mammography', 'scintigraphy', 'fundus_photograph', 'oct', 'cystoscopy', 'mrcp', 'broncoscopy', 'opg', 'venogram', 'egd', 'emg', 'myelogram', 'autofluorescence', 'laryngoscopy', 'arthroscopy', 'ercp', 'spect', 'tractography']\n",
            "'image_technique': ['t2', 'contrast', 'tracer', 't1', 'ir', 'flair', 'doppler', 'dwi', 'fat_suppression', 'intensity_projection', 'mip', 'b_scan', 'fluorescence', 'spectral_domain', 'cone_beam', 'no_contrast', 'stir', 'nbi', 'spin_echo', 'composite', 'm_mode']\n",
            "'image_view': ['anteroposterior', '3d', 'coronal', 'sagittal', 'transthoracic', 'posteroanterior', 'lung_window', 'mediastinal_window', 'axial', 'soft_tissue_window', 'cardiovascular', 'inferolateral', 'arterial_phase', 'oblique', 'anterior', 'posterior', 'short_axis', 'long_axis', 'endoscopic', 'supine_position', 'transcranial', 'cholangiogram', 'transesophageal', '2_chamber', 'multiplanar_reconstruction', '4_chamber', 'lateral', 'transvaginal', 'frontal', 'occlusal', 'subcostal', 'bone_window', 'whole_body', 'transverse', 'parasagittal', 'intravascular', 'cross_sectional', 'posterolateral', 'prone_position', 'panoramic', 'posteromedial', 'tissue_window', 'mediolateral', 'anteromedial', 'transabdominal', 'intraoral', 'left_anterior_oblique', 'cranial_view', 'parasternal', 'cephalometry', 'anterior_oblique', 'caudal', 'axis']\n",
            "'site': ['colorectal', 'uterus', 'ovary', 'bone', 'pelvis', 'chest', 'lung', 'heart', 'head', 'pancreas', 'abdomen', 'skin', 'mouth', 'stomach', 'spine', 'bowel', 'liver', 'skull', 'gi', 'mediastinum', 'kidney', 'lymph_node', 'eye', 'esophagous', 'breast', 'brain', 'abdomino_perlvic', 'peritoneum', 'retroperitoneum']\n",
            "'laterality': ['right', 'bilateral', 'left', 'other']\n",
            "'finding': ['problem', 'tissue', 'cell', 'pathological_finding', 'cell_part', 'ekg_problem', 'normal_ekg_finding']\n",
            "'negation': ['absent', 'absent_and_present']\n"
          ]
        }
      ]
    },
    {
      "cell_type": "markdown",
      "source": [
        "## 3. Creating a Customized Dataset"
      ],
      "metadata": {
        "id": "PMWqCMUY6XXW"
      }
    },
    {
      "cell_type": "markdown",
      "source": [
        "Now that you know everything about filters, you can create your own subset by using the .create_dataset() method.\n",
        "- dataset_name (str): Name of the new subset. The data will be saved in a folder with this name inside the directory define when instantiating the MedicalDatasetCreator class.\n",
        "- filter_list (list): List of filter dictionaries.\n",
        "- dataset_type (str): Required type of dataset. It can be either 'text', 'image', 'multimodal' (default value) or 'case_series'. All the dataset types will include a readme.txt, a reference_list.json (with citation information from case report articles) and an article_metadata.json. Apart from this, each dataset contains different files:\n",
        "  - text: The dataset contains a csv file with case_id, pmcid, case_text, age and gender of the patient.\n",
        "  - image: The dataset contains a folder with images, and a json file with file_id, file_path, normalized_extractions, labels, caption, raw_image_link (from PMC), case_id, license, split_during_preprocessing (True if the raw image included more than one sub images).\n",
        "  - multimodal: The dataset contains a combination of the files from text and image datasets.\n",
        "  - case_series: The dataset contains a folder with images (there is one folder per patient), and a csv file with cases including case_id, pmcid, case_text, age, gender, link to the case report article, amount_of_images for the specific case, and image_folder.\n",
        "\n",
        "If you want to create multiple subsets, you just need to use the .create_dataset() method multiple times using different dataset names and filters (there is no need to instantiate the MedicalDatasetCreator class each time)."
      ],
      "metadata": {
        "id": "Yqo6PIaNo1yb"
      }
    },
    {
      "cell_type": "markdown",
      "source": [
        "## Example"
      ],
      "metadata": {
        "id": "DmhPyOSitivy"
      }
    },
    {
      "cell_type": "markdown",
      "source": [
        "Let's create a multimodal subset with adult male patients with brain MRI images and mentions related to cancer in the text of the case and in captions. This will only take some minutes."
      ],
      "metadata": {
        "id": "2mw1bJ3Asr1r"
      }
    },
    {
      "cell_type": "code",
      "source": [
        "filters = [{'field': 'min_age', 'string_list': ['18']},\n",
        "           {'field': 'gender', 'string_list': ['Male']},\n",
        "           {'field': 'case_strings', 'string_list': ['tumor', 'cancer', 'carcinoma'], 'operator': 'any'},\n",
        "           {'field': 'caption', 'string_list': ['metastasis', 'tumor', 'mass'], 'operator': 'any'},\n",
        "           {'field': 'normalized_extractions', 'string_list': ['mri', 'brain']}]"
      ],
      "metadata": {
        "id": "zSiXeYsT6bFp"
      },
      "execution_count": 34,
      "outputs": []
    },
    {
      "cell_type": "code",
      "source": [
        "mdc.create_dataset(dataset_name = 'male_brain_tumor_dataset', filter_list = filters, dataset_type = 'multimodal')"
      ],
      "metadata": {
        "id": "HxGvjEjZ6bcS",
        "colab": {
          "base_uri": "https://localhost:8080/"
        },
        "outputId": "57cc3594-99ba-47ba-f544-fdc9f25a2be4"
      },
      "execution_count": 35,
      "outputs": [
        {
          "output_type": "stream",
          "name": "stdout",
          "text": [
            "The male_brain_tumor_dataset was successfully created!\n",
            "\n",
            "Suggestions:\n",
            "- Image captions: If you intend to use them, consider prioritizing images with 'split_during_preprocessing' == False.\n",
            "  Many captions needed to be split during caption preprocessing, and the resulting strings may have some minor issues such as extra special characters or wrong capitalization.\n",
            "- Image labels: They were created programatically based on image captions (they were not annotated manually).\n",
            "  If you intend to use image labels, consider having them manually reviewed by a medical doctor or an SME.\n"
          ]
        }
      ]
    },
    {
      "cell_type": "code",
      "source": [
        "print(\"The subset includes:\")\n",
        "print(f\"  - Amount of patients: {len(mdc.filtered_cases)}\")\n",
        "print(f\"  - Amount of images: {len(mdc.filtered_image_metadata_df)}\")\n",
        "print(f\"  - Subset contents: {os.listdir(f'{mdc.directory}/{mdc.dataset_name}')}\")"
      ],
      "metadata": {
        "colab": {
          "base_uri": "https://localhost:8080/"
        },
        "id": "z7XiwrG-sR7b",
        "outputId": "9ec6a747-c4c2-4613-f731-46f9091203b4"
      },
      "execution_count": 42,
      "outputs": [
        {
          "output_type": "stream",
          "name": "stdout",
          "text": [
            "The subset includes:\n",
            "  - Amount of patients: 10243\n",
            "  - Amount of images: 352\n",
            "  - Subset contents: ['case_report_citations.json', 'image_metadata.json', 'images', 'cases.csv', 'readme.txt', 'article_metadata.json']\n"
          ]
        }
      ]
    },
    {
      "cell_type": "markdown",
      "source": [
        "And that's it! Enjoy your customized datasets! 🙂"
      ],
      "metadata": {
        "id": "ubGG59c6sFv1"
      }
    }
  ]
}
